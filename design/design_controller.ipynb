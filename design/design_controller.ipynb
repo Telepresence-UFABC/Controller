{
 "cells": [
  {
   "cell_type": "code",
   "execution_count": 1,
   "id": "d6c1ff39-f780-4d40-97f6-e515da04b852",
   "metadata": {},
   "outputs": [],
   "source": [
    "import control as ct, numpy as np, matplotlib.pyplot as plt, re\n",
    "from json import load, dump"
   ]
  },
  {
   "cell_type": "markdown",
   "id": "376a1f95-e72f-4380-b1df-6318266aa9de",
   "metadata": {},
   "source": [
    "# Funções de transferência do controlador PID discreto:\n",
    "# $$G_c(z) = K_p + \\frac{K_i}{1-z^{-1}} + K_d\\cdot(1-z^-1)$$\n",
    "\n",
    "# $$G_c(z) = K_C \\cdot \\frac{(z-z_{c1})\\cdot(z-z_{c2})}{z\\cdot(z-1)}$$"
   ]
  },
  {
   "cell_type": "code",
   "execution_count": 2,
   "id": "3f478f96-efbc-44ce-b71e-4f6537a8e2ec",
   "metadata": {},
   "outputs": [],
   "source": [
    "def create_servo(k, tau):\n",
    "    return k*ct.tf(1, [1, 0])*ct.tf(1, [tau, 1])"
   ]
  },
  {
   "cell_type": "code",
   "execution_count": 3,
   "id": "2308ba05-6bdc-446a-a6b8-1b230d9c8730",
   "metadata": {},
   "outputs": [],
   "source": [
    "def plot_response(sys, t, u, grid_major = 1, grid_minor = 0.2, display = True):\n",
    "    response = ct.forced_response(ct.feedback(sys), t, u)\n",
    "    if display:\n",
    "        plt.grid()\n",
    "        plt.plot(response.time, response.outputs)\n",
    "        plt.show()\n",
    "    return response"
   ]
  },
  {
   "cell_type": "code",
   "execution_count": 4,
   "id": "921d6da7",
   "metadata": {},
   "outputs": [],
   "source": [
    "def compare_step(sys1, sys2, time, y_min = None, y_max = None):\n",
    "    step = np.ones(len(time))\n",
    "    resp1 = plot_response(sys1, time, step, display=False)\n",
    "    resp2 = plot_response(sys2, time, step, display=False)\n",
    "    plt.grid()\n",
    "    plt.plot(resp1.time, resp1.outputs, c='r', label=\"Não compensado\")\n",
    "    plt.plot(resp2.time, resp2.outputs, c='b', label=\"Compensado\")\n",
    "    plt.legend()\n",
    "    if y_min != None:\n",
    "        plt.ylim(bottom=y_min)\n",
    "    if y_max != None:\n",
    "        plt.ylim(top=y_max)\n",
    "    plt.show()\n",
    "    return resp1, resp2"
   ]
  },
  {
   "cell_type": "code",
   "execution_count": 5,
   "id": "77460652",
   "metadata": {},
   "outputs": [],
   "source": [
    "def design_pid_computational(*, sys: ct.TransferFunction, ts: float, overshoot: float,\n",
    "                            discrete: bool = False, T: float = None,\n",
    "                            k_range: tuple = (1.5, 10), k_step: float = 0.2,\n",
    "                            a_range: tuple = (0.5, 2.5), a_step: float = 0.1):\n",
    "    \n",
    "    if discrete and T == None:\n",
    "        raise Exception(ValueError)\n",
    "    \n",
    "    k_vals = np.arange(k_range[0], k_range[1]+k_step, k_step)\n",
    "    a_vals = np.arange(a_range[0], a_range[1]+a_step, a_step)\n",
    "\n",
    "    for k in k_vals:\n",
    "        for a in a_vals:\n",
    "            gc = k*ct.tf([1, 2*a, a**2], [1, 0])\n",
    "            stats = ct.step_info(ct.feedback(gc*sys))\n",
    "            if stats[\"Overshoot\"]/100 <= overshoot and stats[\"SettlingTime\"] <= ts:\n",
    "                if not discrete:\n",
    "                    return sys, gc\n",
    "                # bilinear transform -> s = 2/T*(z-1)/(z+1)\n",
    "                kp = 2*k*a\n",
    "                ki = k*a**2\n",
    "                kd = k\n",
    "                return ct.c2d(sys, T), ct.tf([kp+ki*T/2+2*kd/T, ki*T-4*kd/T, -kp+ki*T/2+2*kd/T], [1, 0, -1], T)\n",
    "\n",
    "    return sys, None"
   ]
  },
  {
   "cell_type": "code",
   "execution_count": 6,
   "id": "440cfe2a",
   "metadata": {},
   "outputs": [],
   "source": [
    "def design_lead_cancel(*, sys, csi=None, ts=None, pole=None, overshoot=None, verbose=False):\n",
    "    if csi != None and ts != None:\n",
    "        omega_n = 4/(ts*csi)\n",
    "        omega_d = omega_n * np.sqrt(1-csi**2)\n",
    "        dom_s = -csi*omega_n + 1j*omega_d\n",
    "    elif pole != None:\n",
    "        dom_s = pole\n",
    "    elif overshoot != None and ts != None:\n",
    "        csi = -np.log(overshoot)/np.sqrt(np.pi**2+np.log(overshoot)**2)\n",
    "        omega_n = 4/(ts*csi)\n",
    "        omega_d = omega_n * np.sqrt(1-csi**2)\n",
    "        dom_s = -csi*omega_n + 1j*omega_d\n",
    "    else:\n",
    "        raise Exception(ValueError)\n",
    "    if verbose:\n",
    "        print(f\"Polo dominante escolhido: {dom_s:.2f}\")\n",
    "    zc = np.sort(sys.poles()[np.abs(sys.poles()) > 10e-5])[0] # zero = polo mais próximo da origem sem ser 0\n",
    "    current_angle = 0\n",
    "    for p in sys.poles()[sys.poles() != zc]:\n",
    "        current_angle += np.angle(dom_s - p)\n",
    "    for z in sys.zeros():\n",
    "        current_angle += np.angle(dom_s - z)\n",
    "\n",
    "    pole_angle = np.pi - current_angle\n",
    "    if pole_angle < np.pi/2: # polo do compensador à esquerda do polo dominante\n",
    "        pc = dom_s.real - dom_s.imag/np.tan(pole_angle)\n",
    "    else: # polo do compensador à direita do compensador\n",
    "        pc = dom_s.real + dom_s.imag/np.tan(pole_angle)\n",
    "    gc = ct.tf([1, -zc], [1, -pc])\n",
    "    k = 1/np.abs((gc*sys)(dom_s))\n",
    "    return sys, k*gc"
   ]
  },
  {
   "cell_type": "code",
   "execution_count": 7,
   "id": "39dd1416",
   "metadata": {},
   "outputs": [],
   "source": [
    "def design_lead_bissect(*, sys, csi=None, ts=None, pole=None, overshoot=None, verbose=False) -> tuple[ct.TransferFunction, ct.TransferFunction]:\n",
    "    if csi != None and ts != None:\n",
    "        omega_n = 4/(ts*csi)\n",
    "        omega_d = omega_n * np.sqrt(1-csi**2)\n",
    "        dom_s = -csi*omega_n + 1j*omega_d\n",
    "    elif pole != None:\n",
    "        dom_s = pole\n",
    "    elif overshoot != None and ts != None:\n",
    "        csi = -np.log(overshoot)/np.sqrt(np.pi**2+np.log(overshoot)**2)\n",
    "        omega_n = 4/(ts*csi)\n",
    "        omega_d = omega_n * np.sqrt(1-csi**2)\n",
    "        dom_s = -csi*omega_n + 1j*omega_d\n",
    "    else:\n",
    "        raise Exception(ValueError)\n",
    "    if verbose:\n",
    "        print(f\"Polo dominante escolhido: {dom_s:.2f}\")\n",
    "    current_angle = 0\n",
    "    for p in sys.poles():\n",
    "        current_angle += np.angle(dom_s - p)\n",
    "        \n",
    "    for z in sys.zeros():\n",
    "        current_angle += np.angle(dom_s - z)\n",
    "    \n",
    "    current_angle %= 2*np.pi\n",
    "\n",
    "    # resolvendo para zc e pc\n",
    "    phi = np.abs(np.pi - current_angle)\n",
    "    alpha = np.angle(dom_s) - np.pi/2\n",
    "    beta = np.pi/2 - alpha\n",
    "    gamma = np.pi - beta\n",
    "    theta = np.pi - beta - (gamma+phi)/2\n",
    "    eta = np.pi - beta - (gamma-phi)/2\n",
    "    pc = -np.abs(dom_s)*np.sin((gamma+phi)/2)/(np.sin(theta))\n",
    "    zc = -np.abs(dom_s)*np.sin((gamma-phi)/2)/(np.sin(eta))\n",
    "    \n",
    "    gc = ct.tf([1, -zc], [1, -pc])\n",
    "    k = 1/np.abs((gc*sys)(dom_s))\n",
    "    \n",
    "    return sys, k*gc"
   ]
  },
  {
   "cell_type": "code",
   "execution_count": 8,
   "id": "74ccd3af",
   "metadata": {},
   "outputs": [],
   "source": [
    "def z2t(sys, out_prefix = \"uN\", in_prefix = \"errN\"):\n",
    "\n",
    "    out = [{\n",
    "            \"coef\": coef,\n",
    "            \"iter\": i\n",
    "        } for i, coef in enumerate(sys.den[0][0].real) if coef != 0]\n",
    "    \n",
    "    inp = [{\n",
    "            \"coef\": coef,\n",
    "            \"iter\": i\n",
    "        } for i, coef in enumerate(sys.num[0][0].real) if coef != 0]\n",
    "    \n",
    "    if len(inp) < len(out):\n",
    "        for entry in inp:\n",
    "            entry[\"iter\"] += 1\n",
    "\n",
    "    lhs = (str(out[0][\"coef\"])+'*' if out[0][\"coef\"] != 1 else \"\") + out_prefix + \"_\" + str(out[0][\"iter\"])\n",
    "\n",
    "    rhs = \"\"\n",
    "    for term in out[1:]:\n",
    "        rhs += str(\"{0:+}\".format(-term[\"coef\"])) + f\"*{out_prefix}_{term['iter']} \"\n",
    "\n",
    "    for term in inp:\n",
    "        rhs += str(\"{0:+}\".format(term[\"coef\"])) + f\"*{in_prefix}_{term['iter']} \"\n",
    "\n",
    "    return (lhs + \" = \" + rhs).replace(\"= +\", \"= \").replace(\" +\", \" + \").replace(\" -\", \" - \").strip()"
   ]
  },
  {
   "cell_type": "code",
   "execution_count": 9,
   "id": "138ba71f",
   "metadata": {},
   "outputs": [],
   "source": [
    "def s2t(sys, out_prefix = \"u\", in_prefix = \"err\"):\n",
    "\n",
    "    out = [{\n",
    "            \"coef\": coef,\n",
    "            \"diff\": i\n",
    "        } for i, coef in enumerate(reversed(sys.den[0][0])) if coef != 0]\n",
    "    \n",
    "    inp = [{\n",
    "            \"coef\": coef,\n",
    "            \"diff\": i\n",
    "        } for i, coef in enumerate(reversed(sys.num[0][0])) if coef != 0]\n",
    "\n",
    "    if len(inp) > len(out):\n",
    "        for entry in inp:\n",
    "            entry[\"diff\"] += 1\n",
    "\n",
    "    lhs = (str(out[0][\"coef\"])+'*' if out[0][\"coef\"] != 1 else \"\") + out_prefix + \"_\" + str(out[0][\"diff\"])\n",
    "    rhs = \"\"\n",
    "    for term in out[:-1]:\n",
    "        rhs += str(\"{0:+}\".format(-term[\"coef\"])) + f\"*{out_prefix}_{term['diff']} \"\n",
    "\n",
    "    for term in inp:\n",
    "        rhs += str(\"{0:+}\".format(term[\"coef\"])) + f\"*{in_prefix}_{term['diff']} \"\n",
    "    return (lhs + \" = \" + rhs).strip()"
   ]
  },
  {
   "cell_type": "markdown",
   "id": "90180c02",
   "metadata": {},
   "source": [
    "# Função de transferência do controlador PID:\n",
    "# $$G_c(s) = K\\cdot\\frac{(s+a)^2}{s}$$\n",
    "# Função de transferência do compensador por avanço de fase:\n",
    "# $$G_c(s) = K\\cdot\\frac{s+z_c}{s+p_c}$$"
   ]
  },
  {
   "cell_type": "code",
   "execution_count": 10,
   "id": "50f59f44",
   "metadata": {},
   "outputs": [],
   "source": [
    "y_min = 0\n",
    "overshoot = 0.1\n",
    "ts = 2\n",
    "T = 5e-3"
   ]
  },
  {
   "cell_type": "markdown",
   "id": "9ded8f3b",
   "metadata": {},
   "source": [
    "### Motor panorâmico"
   ]
  },
  {
   "cell_type": "code",
   "execution_count": 11,
   "metadata": {},
   "outputs": [],
   "source": [
    "path = \"../system_parameters/\"\n",
    "with open(f\"{path}motor_pan.info\", \"r\") as file:\n",
    "    params = load(file)\n",
    "tau, K = params[\"tau\"], params[\"K\"]"
   ]
  },
  {
   "cell_type": "code",
   "execution_count": 12,
   "metadata": {},
   "outputs": [
    {
     "data": {
      "text/latex": [
       "$$\\frac{0.6371}{0.1991 s^2 + s}$$"
      ],
      "text/plain": [
       "TransferFunction(array([0.63711187]), array([0.19910298, 1.        , 0.        ]))"
      ]
     },
     "execution_count": 12,
     "metadata": {},
     "output_type": "execute_result"
    }
   ],
   "source": [
    "pan = create_servo(K, tau)\n",
    "pan"
   ]
  },
  {
   "cell_type": "markdown",
   "id": "3ce94d81",
   "metadata": {},
   "source": [
    "### Controle PID"
   ]
  },
  {
   "cell_type": "code",
   "execution_count": 13,
   "id": "a64424c8",
   "metadata": {},
   "outputs": [
    {
     "data": {
      "text/latex": [
       "$$\\frac{1173 z^2 - 2320 z + 1147}{z^2 - 1}\\quad dt = 0.005$$"
      ],
      "text/plain": [
       "TransferFunction(array([ 1173.3783525, -2319.923295 ,  1146.6983525]), array([ 1,  0, -1]), 0.005)"
      ]
     },
     "execution_count": 13,
     "metadata": {},
     "output_type": "execute_result"
    }
   ],
   "source": [
    "_, gz_pan = design_pid_computational(sys=pan, overshoot=overshoot, ts=ts, discrete=True, T=T)\n",
    "gz_pan"
   ]
  },
  {
   "cell_type": "code",
   "execution_count": 14,
   "id": "9cb85c5e",
   "metadata": {},
   "outputs": [],
   "source": [
    "pan_z = ct.c2d(pan, 5e-3)"
   ]
  },
  {
   "cell_type": "code",
   "execution_count": 15,
   "id": "b5be561c",
   "metadata": {},
   "outputs": [],
   "source": [
    "time = np.arange(0, 5, 5e-3)"
   ]
  },
  {
   "cell_type": "code",
   "execution_count": 16,
   "id": "8aa09517",
   "metadata": {},
   "outputs": [
    {
     "name": "stdout",
     "output_type": "stream",
     "text": [
      "Não compensado:\n",
      "Tempo de acomodação:5.4750000000000005\n",
      "Overshoot:0.00%\n",
      "Undershoot:0.00%\n",
      "--------------------------------------------------\n",
      "Compensado:\n",
      "Tempo de acomodação:1.95\n",
      "Overshoot:9.14%\n",
      "Undershoot:0.00%\n"
     ]
    }
   ],
   "source": [
    "nc = ct.step_info(ct.feedback(pan_z))\n",
    "\n",
    "print(f\"Não compensado:\\nTempo de acomodação:{nc['SettlingTime']}\\nOvershoot:{nc['Overshoot']:.2f}%\\nUndershoot:{nc['Undershoot']:.2f}%\")\n",
    "print(50*\"-\")\n",
    "\n",
    "c = ct.step_info(ct.feedback(gz_pan*pan_z))\n",
    "print(f\"Compensado:\\nTempo de acomodação:{c['SettlingTime']}\\nOvershoot:{c['Overshoot']:.2f}%\\nUndershoot:{c['Undershoot']:.2f}%\")"
   ]
  },
  {
   "cell_type": "code",
   "execution_count": 17,
   "id": "ba15d977",
   "metadata": {},
   "outputs": [
    {
     "data": {
      "image/png": "[encoded data removed]",
      "text/plain": [
       "<Figure size 640x480 with 1 Axes>"
      ]
     },
     "metadata": {},
     "output_type": "display_data"
    }
   ],
   "source": [
    "_ = compare_step(pan_z, gz_pan*pan_z, time, y_min=y_min)"
   ]
  },
  {
   "cell_type": "markdown",
   "id": "57744852",
   "metadata": {},
   "source": [
    "### Avanço de fase pelo método da bissecção"
   ]
  },
  {
   "cell_type": "code",
   "execution_count": 18,
   "id": "1eb9b7e7",
   "metadata": {},
   "outputs": [
    {
     "data": {
      "text/latex": [
       "$$\\frac{4.776 s + 14.57}{s + 3.753}$$"
      ],
      "text/plain": [
       "TransferFunction(array([ 4.7763887 , 14.56580724]), array([1.        , 3.75337806]))"
      ]
     },
     "execution_count": 18,
     "metadata": {},
     "output_type": "execute_result"
    }
   ],
   "source": [
    "_, gc_pan = design_lead_bissect(sys=pan, overshoot=overshoot, ts=ts)\n",
    "gc_pan"
   ]
  },
  {
   "cell_type": "code",
   "execution_count": 19,
   "id": "8a2261bd",
   "metadata": {},
   "outputs": [
    {
     "data": {
      "text/latex": [
       "$$\\frac{4.776 z - 4.704}{z - 0.9814}\\quad dt = 0.005$$"
      ],
      "text/plain": [
       "TransferFunction(array([ 4.7763887, -4.7042388]), array([ 1.        , -0.98140811]), 0.005)"
      ]
     },
     "execution_count": 19,
     "metadata": {},
     "output_type": "execute_result"
    }
   ],
   "source": [
    "gz_pan = ct.c2d(gc_pan, 5e-3)\n",
    "gz_pan"
   ]
  },
  {
   "cell_type": "code",
   "execution_count": 20,
   "id": "51f1d392",
   "metadata": {},
   "outputs": [],
   "source": [
    "time = np.arange(0, 5, 1e-3)"
   ]
  },
  {
   "cell_type": "code",
   "execution_count": 21,
   "id": "1498643e",
   "metadata": {},
   "outputs": [
    {
     "name": "stdout",
     "output_type": "stream",
     "text": [
      "Não compensado:\n",
      "Tempo de acomodação:5.483981507462381\n",
      "Overshoot:0.00%\n",
      "Undershoot:0.00%\n",
      "--------------------------------------------------\n",
      "Compensado:\n",
      "Tempo de acomodação:0.9556824300673393\n",
      "Overshoot:0.83%\n",
      "Undershoot:0.00%\n"
     ]
    }
   ],
   "source": [
    "nc = ct.step_info(ct.feedback(pan))\n",
    "\n",
    "print(f\"Não compensado:\\nTempo de acomodação:{nc['SettlingTime']}\\nOvershoot:{nc['Overshoot']:.2f}%\\nUndershoot:{nc['Undershoot']:.2f}%\")\n",
    "print(50*\"-\")\n",
    "\n",
    "c = ct.step_info(ct.feedback(gc_pan*pan))\n",
    "print(f\"Compensado:\\nTempo de acomodação:{c['SettlingTime']}\\nOvershoot:{c['Overshoot']:.2f}%\\nUndershoot:{c['Undershoot']:.2f}%\")"
   ]
  },
  {
   "cell_type": "code",
   "execution_count": 22,
   "id": "7a080877",
   "metadata": {},
   "outputs": [
    {
     "data": {
      "image/png": "[encoded data removed]",
      "text/plain": [
       "<Figure size 640x480 with 1 Axes>"
      ]
     },
     "metadata": {},
     "output_type": "display_data"
    }
   ],
   "source": [
    "_ = compare_step(pan, gc_pan*pan, time, y_min=y_min)"
   ]
  },
  {
   "cell_type": "code",
   "execution_count": 23,
   "id": "f245a340",
   "metadata": {},
   "outputs": [
    {
     "name": "stdout",
     "output_type": "stream",
     "text": [
      "uN_0 = 0.9814081113269162*uN_1 + 4.776388699217659*errN_0 - 4.704238795256313*errN_1\n"
     ]
    }
   ],
   "source": [
    "diff_eq = z2t(gz_pan)\n",
    "print(diff_eq)\n",
    "\n",
    "with open(\"../system_parameters/controller_pan.info\", \"w\") as file:\n",
    "    consts = {}\n",
    "    for i, n in enumerate([float(n.replace(\" \", \"\")) for n in re.findall(r\"[-]?\\s?\\d+\\.?\\d+\", diff_eq)]):\n",
    "        consts[f\"c{i+1}\"] = n\n",
    "    dump(consts, file)"
   ]
  },
  {
   "cell_type": "markdown",
   "id": "084b840e",
   "metadata": {},
   "source": [
    "### Motor tilt"
   ]
  },
  {
   "cell_type": "markdown",
   "id": "8886de65",
   "metadata": {},
   "source": [
    "### Controle PID"
   ]
  },
  {
   "cell_type": "code",
   "execution_count": 24,
   "id": "b492e3bd",
   "metadata": {},
   "outputs": [
    {
     "data": {
      "text/latex": [
       "$$\\frac{1173 z^2 - 2320 z + 1147}{z^2 - 1}\\quad dt = 0.005$$"
      ],
      "text/plain": [
       "TransferFunction(array([ 1173.3783525, -2319.923295 ,  1146.6983525]), array([ 1,  0, -1]), 0.005)"
      ]
     },
     "execution_count": 24,
     "metadata": {},
     "output_type": "execute_result"
    }
   ],
   "source": [
    "_, gz_pan = design_pid_computational(sys=pan, overshoot=overshoot, ts=ts, discrete=True, T=T)\n",
    "gz_pan"
   ]
  },
  {
   "cell_type": "code",
   "execution_count": 25,
   "id": "3855c1c0",
   "metadata": {},
   "outputs": [],
   "source": [
    "pan_z = ct.c2d(pan, 5e-3)"
   ]
  },
  {
   "cell_type": "code",
   "execution_count": 26,
   "id": "f5b8ea41",
   "metadata": {},
   "outputs": [],
   "source": [
    "time = np.arange(0, 5, 5e-3)"
   ]
  },
  {
   "cell_type": "code",
   "execution_count": 27,
   "id": "04c1cda3",
   "metadata": {},
   "outputs": [
    {
     "name": "stdout",
     "output_type": "stream",
     "text": [
      "Não compensado:\n",
      "Tempo de acomodação:5.4750000000000005\n",
      "Overshoot:0.00%\n",
      "Undershoot:0.00%\n",
      "--------------------------------------------------\n",
      "Compensado:\n",
      "Tempo de acomodação:1.95\n",
      "Overshoot:9.14%\n",
      "Undershoot:0.00%\n"
     ]
    }
   ],
   "source": [
    "nc = ct.step_info(ct.feedback(pan_z))\n",
    "\n",
    "print(f\"Não compensado:\\nTempo de acomodação:{nc['SettlingTime']}\\nOvershoot:{nc['Overshoot']:.2f}%\\nUndershoot:{nc['Undershoot']:.2f}%\")\n",
    "print(50*\"-\")\n",
    "\n",
    "c = ct.step_info(ct.feedback(gz_pan*pan_z))\n",
    "print(f\"Compensado:\\nTempo de acomodação:{c['SettlingTime']}\\nOvershoot:{c['Overshoot']:.2f}%\\nUndershoot:{c['Undershoot']:.2f}%\")"
   ]
  },
  {
   "cell_type": "code",
   "execution_count": 28,
   "id": "b50f33c7",
   "metadata": {},
   "outputs": [
    {
     "data": {
      "image/png": "[encoded data removed]",
      "text/plain": [
       "<Figure size 640x480 with 1 Axes>"
      ]
     },
     "metadata": {},
     "output_type": "display_data"
    }
   ],
   "source": [
    "_ = compare_step(pan_z, gz_pan*pan_z, time, y_min=y_min)"
   ]
  },
  {
   "cell_type": "markdown",
   "id": "6feb8dff",
   "metadata": {},
   "source": [
    "### Avanço de fase pelo método da bissecção"
   ]
  },
  {
   "cell_type": "code",
   "execution_count": 29,
   "id": "26f22558",
   "metadata": {},
   "outputs": [],
   "source": [
    "path = \"../system_parameters/\"\n",
    "with open(f\"{path}motor_tilt.info\", \"r\") as file:\n",
    "    params = load(file)\n",
    "tau, K = params[\"tau\"], params[\"K\"]"
   ]
  },
  {
   "cell_type": "code",
   "execution_count": 30,
   "id": "5159e883",
   "metadata": {},
   "outputs": [
    {
     "data": {
      "text/latex": [
       "$$\\frac{0.512}{0.1484 s^2 + s}$$"
      ],
      "text/plain": [
       "TransferFunction(array([0.51204194]), array([0.14841093, 1.        , 0.        ]))"
      ]
     },
     "execution_count": 30,
     "metadata": {},
     "output_type": "execute_result"
    }
   ],
   "source": [
    "tilt = create_servo(K, tau)\n",
    "tilt"
   ]
  },
  {
   "cell_type": "code",
   "execution_count": 31,
   "id": "464d1585",
   "metadata": {},
   "outputs": [
    {
     "data": {
      "text/latex": [
       "$$\\frac{6.645 s + 18.14}{s + 4.193}$$"
      ],
      "text/plain": [
       "TransferFunction(array([ 6.64536743, 18.13920419]), array([1.        , 4.19331972]))"
      ]
     },
     "execution_count": 31,
     "metadata": {},
     "output_type": "execute_result"
    }
   ],
   "source": [
    "_, gc_tilt = design_lead_bissect(sys=tilt, overshoot=overshoot, ts=ts)\n",
    "gc_tilt"
   ]
  },
  {
   "cell_type": "code",
   "execution_count": 32,
   "id": "33e17455",
   "metadata": {},
   "outputs": [
    {
     "data": {
      "text/latex": [
       "$$\\frac{6.645 z - 6.556}{z - 0.9793}\\quad dt = 0.005$$"
      ],
      "text/plain": [
       "TransferFunction(array([ 6.64536743, -6.5556156 ]), array([ 1.        , -0.97925167]), 0.005)"
      ]
     },
     "execution_count": 32,
     "metadata": {},
     "output_type": "execute_result"
    }
   ],
   "source": [
    "gz_tilt = ct.c2d(gc_tilt, 5e-3)\n",
    "gz_tilt"
   ]
  },
  {
   "cell_type": "code",
   "execution_count": 33,
   "id": "f0fcdea3",
   "metadata": {},
   "outputs": [],
   "source": [
    "time = np.arange(0, 5, 1e-3)"
   ]
  },
  {
   "cell_type": "code",
   "execution_count": 34,
   "id": "40e7dfc4",
   "metadata": {},
   "outputs": [
    {
     "name": "stdout",
     "output_type": "stream",
     "text": [
      "Não compensado:\n",
      "Tempo de acomodação:7.248710360631786\n",
      "Overshoot:0.00%\n",
      "Undershoot:0.00%\n",
      "--------------------------------------------------\n",
      "Compensado:\n",
      "Tempo de acomodação:1.8715374258708437\n",
      "Overshoot:0.00%\n",
      "Undershoot:0.00%\n"
     ]
    }
   ],
   "source": [
    "nc = ct.step_info(ct.feedback(tilt))\n",
    "\n",
    "print(f\"Não compensado:\\nTempo de acomodação:{nc['SettlingTime']}\\nOvershoot:{nc['Overshoot']:.2f}%\\nUndershoot:{nc['Undershoot']:.2f}%\")\n",
    "print(50*\"-\")\n",
    "\n",
    "c = ct.step_info(ct.feedback(gc_tilt*tilt))\n",
    "print(f\"Compensado:\\nTempo de acomodação:{c['SettlingTime']}\\nOvershoot:{c['Overshoot']:.2f}%\\nUndershoot:{c['Undershoot']:.2f}%\")"
   ]
  },
  {
   "cell_type": "code",
   "execution_count": 35,
   "id": "584b15eb",
   "metadata": {},
   "outputs": [
    {
     "data": {
      "image/png": "[encoded data removed]",
      "text/plain": [
       "<Figure size 640x480 with 1 Axes>"
      ]
     },
     "metadata": {},
     "output_type": "display_data"
    }
   ],
   "source": [
    "_ = compare_step(tilt, gc_tilt*tilt, time, y_min=y_min)"
   ]
  },
  {
   "cell_type": "code",
   "execution_count": 36,
   "id": "620f3aa6",
   "metadata": {},
   "outputs": [
    {
     "name": "stdout",
     "output_type": "stream",
     "text": [
      "uN_0 = 0.979251672405997*uN_1 + 6.645367432868703*errN_0 - 6.5556155951564*errN_1\n"
     ]
    }
   ],
   "source": [
    "diff_eq = z2t(gz_tilt)\n",
    "print(diff_eq)\n",
    "\n",
    "with open(\"../system_parameters/controller_tilt.info\", \"w\") as file:\n",
    "    consts = {}\n",
    "    for i, n in enumerate([float(n.replace(\" \", \"\")) for n in re.findall(r\"[-]?\\s?\\d+\\.?\\d+\", diff_eq)]):\n",
    "        consts[f\"c{i+1}\"] = n\n",
    "    dump(consts, file)"
   ]
  }
 ],
 "metadata": {
  "kernelspec": {
   "display_name": "Python 3 (ipykernel)",
   "language": "python",
   "name": "python3"
  },
  "language_info": {
   "codemirror_mode": {
    "name": "ipython",
    "version": 3
   },
   "file_extension": ".py",
   "mimetype": "text/x-python",
   "name": "python",
   "nbconvert_exporter": "python",
   "pygments_lexer": "ipython3",
   "version": "3.10.12"
  }
 },
 "nbformat": 4,
 "nbformat_minor": 5
}
